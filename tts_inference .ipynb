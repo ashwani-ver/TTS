{
  "nbformat": 4,
  "nbformat_minor": 0,
  "metadata": {
    "colab": {
      "provenance": []
    },
    "kernelspec": {
      "name": "python3",
      "display_name": "Python 3"
    },
    "language_info": {
      "name": "python"
    }
  },
  "cells": [
    {
      "cell_type": "code",
      "execution_count": null,
      "metadata": {
        "id": "0eL1RpWwt_b0"
      },
      "outputs": [],
      "source": [
        "from google.colab import drive\n",
        "drive.mount('/content/drive')"
      ]
    },
    {
      "cell_type": "code",
      "source": [
        "!pip install transformers"
      ],
      "metadata": {
        "id": "WWCc28QauFCV"
      },
      "execution_count": null,
      "outputs": []
    },
    {
      "cell_type": "code",
      "source": [
        "!pip install datasets soundfile speechbrain"
      ],
      "metadata": {
        "id": "LA_TsNGXuFFE"
      },
      "execution_count": null,
      "outputs": []
    },
    {
      "cell_type": "code",
      "source": [
        "!pip install git+https://github.com/huggingface/transformers.git"
      ],
      "metadata": {
        "id": "jYtsOfNxuFIS"
      },
      "execution_count": null,
      "outputs": []
    },
    {
      "cell_type": "code",
      "source": [
        "from transformers import SpeechT5Processor, SpeechT5ForTextToSpeech\n",
        "import numpy as np\n",
        "processor = SpeechT5Processor.from_pretrained(\"microsoft/speecht5_tts\")"
      ],
      "metadata": {
        "id": "7DrTn2FXuFN3"
      },
      "execution_count": null,
      "outputs": []
    },
    {
      "cell_type": "code",
      "source": [
        "from transformers import SpeechT5HifiGan\n",
        "vocoder = SpeechT5HifiGan.from_pretrained(\"microsoft/speecht5_hifigan\")"
      ],
      "metadata": {
        "id": "rwD-7-O2uFQj"
      },
      "execution_count": null,
      "outputs": []
    },
    {
      "cell_type": "code",
      "source": [
        "model1 = SpeechT5ForTextToSpeech.from_pretrained(\"model_path\")"
      ],
      "metadata": {
        "id": "NuWfa7m6uFTJ"
      },
      "execution_count": null,
      "outputs": []
    },
    {
      "cell_type": "code",
      "source": [
        "speaker_embeddings1 = np.load(\"embedding path\")"
      ],
      "metadata": {
        "id": "Q5lcNz_muFWL"
      },
      "execution_count": null,
      "outputs": []
    },
    {
      "cell_type": "code",
      "source": [
        "tokenizer = processor.tokenizer"
      ],
      "metadata": {
        "id": "GBRYPVmUuFYE"
      },
      "execution_count": null,
      "outputs": []
    },
    {
      "cell_type": "code",
      "source": [
        "import torch\n",
        "\n",
        "# Convert speaker_embeddings to a PyTorch tensor\n",
        "speaker_embeddings_tensor = torch.from_numpy(speaker_embeddings1)\n",
        "\n",
        "# Normalize the speaker_embeddings_tensor\n",
        "normalized_speaker_embeddings = torch.nn.functional.normalize(speaker_embeddings_tensor)"
      ],
      "metadata": {
        "id": "9rinlU4_uFZo"
      },
      "execution_count": null,
      "outputs": []
    },
    {
      "cell_type": "code",
      "source": [
        "text = \"hi, havishma\""
      ],
      "metadata": {
        "id": "f2r-FAY2uFbn"
      },
      "execution_count": null,
      "outputs": []
    },
    {
      "cell_type": "code",
      "source": [
        "tokenizer.decode(tokenizer(text)[\"input_ids\"])"
      ],
      "metadata": {
        "id": "eV7fc-XKuFd1"
      },
      "execution_count": null,
      "outputs": []
    },
    {
      "cell_type": "code",
      "source": [
        "inputs = processor(text=text, return_tensors=\"pt\")"
      ],
      "metadata": {
        "id": "64rZrfkTxlkB"
      },
      "execution_count": null,
      "outputs": []
    },
    {
      "cell_type": "code",
      "source": [
        "spectrogram = model1.generate_speech(inputs[\"input_ids\"], normalized_speaker_embeddings)"
      ],
      "metadata": {
        "id": "dCGGloU9xlnr"
      },
      "execution_count": null,
      "outputs": []
    },
    {
      "cell_type": "code",
      "source": [
        "import matplotlib.pyplot as plt\n",
        "\n",
        "plt.figure()\n",
        "plt.imshow(spectrogram.T)\n",
        "plt.show()"
      ],
      "metadata": {
        "id": "hIZW6OPIxlr5"
      },
      "execution_count": null,
      "outputs": []
    },
    {
      "cell_type": "code",
      "source": [
        "with torch.no_grad():\n",
        "    speech = vocoder(spectrogram)"
      ],
      "metadata": {
        "id": "AvsJZfEnxvFH"
      },
      "execution_count": null,
      "outputs": []
    },
    {
      "cell_type": "code",
      "source": [
        "from IPython.display import Audio\n",
        "Audio(speech.numpy(), rate=16000)"
      ],
      "metadata": {
        "id": "zWdbld3XxvAj"
      },
      "execution_count": null,
      "outputs": []
    }
  ]
}